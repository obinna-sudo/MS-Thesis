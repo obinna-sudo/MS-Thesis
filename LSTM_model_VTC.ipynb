{
 "cells": [
  {
   "cell_type": "code",
   "execution_count": 60,
   "id": "ba7da85f",
   "metadata": {},
   "outputs": [],
   "source": [
    "#OBINNA AGBO# \n",
    "# Import necessary libraries\n",
    "import time \n",
    "import numpy as np\n",
    "import pandas as pd\n",
    "from sklearn.model_selection import train_test_split\n",
    "from sklearn.preprocessing import LabelEncoder\n",
    "from sklearn.metrics import accuracy_score, classification_report, roc_curve, auc\n",
    "import matplotlib.pyplot as plt\n",
    "from tensorflow.keras.models import Sequential\n",
    "from tensorflow.keras.layers import LSTM, Dense\n",
    "from tensorflow.keras.optimizers import Nadam\n",
    "from tensorflow.keras.utils import to_categorical\n",
    "from tensorflow.keras.layers import Bidirectional"
   ]
  },
  {
   "cell_type": "code",
   "execution_count": 61,
   "id": "e3ff68e4",
   "metadata": {},
   "outputs": [],
   "source": [
    "# Load your dataset (replace 'your_dataset.csv' with your actual file)\n",
    "# Assuming your dataset is in a CSV file\n",
    "df = pd.read_csv('../Multi_class_Fuzzy_Dos/combined_data_encoded.csv')"
   ]
  },
  {
   "cell_type": "code",
   "execution_count": 62,
   "id": "e0ae8966",
   "metadata": {},
   "outputs": [
    {
     "data": {
      "text/html": [
       "<div>\n",
       "<style scoped>\n",
       "    .dataframe tbody tr th:only-of-type {\n",
       "        vertical-align: middle;\n",
       "    }\n",
       "\n",
       "    .dataframe tbody tr th {\n",
       "        vertical-align: top;\n",
       "    }\n",
       "\n",
       "    .dataframe thead th {\n",
       "        text-align: right;\n",
       "    }\n",
       "</style>\n",
       "<table border=\"1\" class=\"dataframe\">\n",
       "  <thead>\n",
       "    <tr style=\"text-align: right;\">\n",
       "      <th></th>\n",
       "      <th>Unnamed: 0</th>\n",
       "      <th>Timestamp</th>\n",
       "      <th>CAN_ID</th>\n",
       "      <th>DLC</th>\n",
       "      <th>D0</th>\n",
       "      <th>D1</th>\n",
       "      <th>D2</th>\n",
       "      <th>D3</th>\n",
       "      <th>D4</th>\n",
       "      <th>D5</th>\n",
       "      <th>D6</th>\n",
       "      <th>D7</th>\n",
       "      <th>Class_Instance</th>\n",
       "    </tr>\n",
       "  </thead>\n",
       "  <tbody>\n",
       "    <tr>\n",
       "      <th>0</th>\n",
       "      <td>0</td>\n",
       "      <td>1.478196e+09</td>\n",
       "      <td>1349</td>\n",
       "      <td>8</td>\n",
       "      <td>216</td>\n",
       "      <td>0</td>\n",
       "      <td>0</td>\n",
       "      <td>138</td>\n",
       "      <td>0</td>\n",
       "      <td>0</td>\n",
       "      <td>0</td>\n",
       "      <td>0</td>\n",
       "      <td>2</td>\n",
       "    </tr>\n",
       "    <tr>\n",
       "      <th>1</th>\n",
       "      <td>1</td>\n",
       "      <td>1.478196e+09</td>\n",
       "      <td>688</td>\n",
       "      <td>5</td>\n",
       "      <td>255</td>\n",
       "      <td>127</td>\n",
       "      <td>0</td>\n",
       "      <td>5</td>\n",
       "      <td>73</td>\n",
       "      <td>0</td>\n",
       "      <td>0</td>\n",
       "      <td>0</td>\n",
       "      <td>2</td>\n",
       "    </tr>\n",
       "    <tr>\n",
       "      <th>2</th>\n",
       "      <td>2</td>\n",
       "      <td>1.478196e+09</td>\n",
       "      <td>2</td>\n",
       "      <td>8</td>\n",
       "      <td>0</td>\n",
       "      <td>0</td>\n",
       "      <td>0</td>\n",
       "      <td>0</td>\n",
       "      <td>0</td>\n",
       "      <td>1</td>\n",
       "      <td>7</td>\n",
       "      <td>21</td>\n",
       "      <td>2</td>\n",
       "    </tr>\n",
       "    <tr>\n",
       "      <th>3</th>\n",
       "      <td>3</td>\n",
       "      <td>1.478196e+09</td>\n",
       "      <td>339</td>\n",
       "      <td>8</td>\n",
       "      <td>0</td>\n",
       "      <td>33</td>\n",
       "      <td>16</td>\n",
       "      <td>255</td>\n",
       "      <td>0</td>\n",
       "      <td>255</td>\n",
       "      <td>0</td>\n",
       "      <td>0</td>\n",
       "      <td>2</td>\n",
       "    </tr>\n",
       "    <tr>\n",
       "      <th>4</th>\n",
       "      <td>4</td>\n",
       "      <td>1.478196e+09</td>\n",
       "      <td>304</td>\n",
       "      <td>8</td>\n",
       "      <td>25</td>\n",
       "      <td>128</td>\n",
       "      <td>0</td>\n",
       "      <td>255</td>\n",
       "      <td>254</td>\n",
       "      <td>127</td>\n",
       "      <td>7</td>\n",
       "      <td>96</td>\n",
       "      <td>2</td>\n",
       "    </tr>\n",
       "    <tr>\n",
       "      <th>...</th>\n",
       "      <td>...</td>\n",
       "      <td>...</td>\n",
       "      <td>...</td>\n",
       "      <td>...</td>\n",
       "      <td>...</td>\n",
       "      <td>...</td>\n",
       "      <td>...</td>\n",
       "      <td>...</td>\n",
       "      <td>...</td>\n",
       "      <td>...</td>\n",
       "      <td>...</td>\n",
       "      <td>...</td>\n",
       "      <td>...</td>\n",
       "    </tr>\n",
       "    <tr>\n",
       "      <th>7504626</th>\n",
       "      <td>7504626</td>\n",
       "      <td>1.478201e+09</td>\n",
       "      <td>399</td>\n",
       "      <td>8</td>\n",
       "      <td>254</td>\n",
       "      <td>89</td>\n",
       "      <td>0</td>\n",
       "      <td>0</td>\n",
       "      <td>0</td>\n",
       "      <td>65</td>\n",
       "      <td>0</td>\n",
       "      <td>0</td>\n",
       "      <td>2</td>\n",
       "    </tr>\n",
       "    <tr>\n",
       "      <th>7504627</th>\n",
       "      <td>7504627</td>\n",
       "      <td>1.478201e+09</td>\n",
       "      <td>608</td>\n",
       "      <td>8</td>\n",
       "      <td>24</td>\n",
       "      <td>33</td>\n",
       "      <td>33</td>\n",
       "      <td>48</td>\n",
       "      <td>8</td>\n",
       "      <td>143</td>\n",
       "      <td>109</td>\n",
       "      <td>25</td>\n",
       "      <td>2</td>\n",
       "    </tr>\n",
       "    <tr>\n",
       "      <th>7504628</th>\n",
       "      <td>7504628</td>\n",
       "      <td>1.478201e+09</td>\n",
       "      <td>672</td>\n",
       "      <td>8</td>\n",
       "      <td>36</td>\n",
       "      <td>0</td>\n",
       "      <td>154</td>\n",
       "      <td>29</td>\n",
       "      <td>151</td>\n",
       "      <td>2</td>\n",
       "      <td>189</td>\n",
       "      <td>0</td>\n",
       "      <td>2</td>\n",
       "    </tr>\n",
       "    <tr>\n",
       "      <th>7504629</th>\n",
       "      <td>7504629</td>\n",
       "      <td>1.478201e+09</td>\n",
       "      <td>809</td>\n",
       "      <td>8</td>\n",
       "      <td>220</td>\n",
       "      <td>183</td>\n",
       "      <td>127</td>\n",
       "      <td>20</td>\n",
       "      <td>17</td>\n",
       "      <td>32</td>\n",
       "      <td>0</td>\n",
       "      <td>20</td>\n",
       "      <td>2</td>\n",
       "    </tr>\n",
       "    <tr>\n",
       "      <th>7504630</th>\n",
       "      <td>7504630</td>\n",
       "      <td>1.478201e+09</td>\n",
       "      <td>1349</td>\n",
       "      <td>8</td>\n",
       "      <td>216</td>\n",
       "      <td>0</td>\n",
       "      <td>0</td>\n",
       "      <td>139</td>\n",
       "      <td>0</td>\n",
       "      <td>0</td>\n",
       "      <td>0</td>\n",
       "      <td>0</td>\n",
       "      <td>2</td>\n",
       "    </tr>\n",
       "  </tbody>\n",
       "</table>\n",
       "<p>7504631 rows × 13 columns</p>\n",
       "</div>"
      ],
      "text/plain": [
       "         Unnamed: 0     Timestamp  CAN_ID  DLC   D0   D1   D2   D3   D4   D5  \\\n",
       "0                 0  1.478196e+09    1349    8  216    0    0  138    0    0   \n",
       "1                 1  1.478196e+09     688    5  255  127    0    5   73    0   \n",
       "2                 2  1.478196e+09       2    8    0    0    0    0    0    1   \n",
       "3                 3  1.478196e+09     339    8    0   33   16  255    0  255   \n",
       "4                 4  1.478196e+09     304    8   25  128    0  255  254  127   \n",
       "...             ...           ...     ...  ...  ...  ...  ...  ...  ...  ...   \n",
       "7504626     7504626  1.478201e+09     399    8  254   89    0    0    0   65   \n",
       "7504627     7504627  1.478201e+09     608    8   24   33   33   48    8  143   \n",
       "7504628     7504628  1.478201e+09     672    8   36    0  154   29  151    2   \n",
       "7504629     7504629  1.478201e+09     809    8  220  183  127   20   17   32   \n",
       "7504630     7504630  1.478201e+09    1349    8  216    0    0  139    0    0   \n",
       "\n",
       "          D6  D7  Class_Instance  \n",
       "0          0   0               2  \n",
       "1          0   0               2  \n",
       "2          7  21               2  \n",
       "3          0   0               2  \n",
       "4          7  96               2  \n",
       "...      ...  ..             ...  \n",
       "7504626    0   0               2  \n",
       "7504627  109  25               2  \n",
       "7504628  189   0               2  \n",
       "7504629    0  20               2  \n",
       "7504630    0   0               2  \n",
       "\n",
       "[7504631 rows x 13 columns]"
      ]
     },
     "execution_count": 62,
     "metadata": {},
     "output_type": "execute_result"
    }
   ],
   "source": [
    "df"
   ]
  },
  {
   "cell_type": "code",
   "execution_count": 63,
   "id": "400fa53c",
   "metadata": {},
   "outputs": [
    {
     "data": {
      "text/plain": [
       "Class_Instance\n",
       "2    6425263\n",
       "0     587521\n",
       "1     491847\n",
       "Name: count, dtype: int64"
      ]
     },
     "execution_count": 63,
     "metadata": {},
     "output_type": "execute_result"
    }
   ],
   "source": [
    "df['Class_Instance'].value_counts()"
   ]
  },
  {
   "cell_type": "code",
   "execution_count": 64,
   "id": "1225fb78",
   "metadata": {},
   "outputs": [],
   "source": [
    "# Extract features and labels\n",
    "X = df[['CAN_ID']].values\n",
    "y = df['Class_Instance'].values"
   ]
  },
  {
   "cell_type": "code",
   "execution_count": 65,
   "id": "d3c2f635",
   "metadata": {},
   "outputs": [],
   "source": [
    "encoder = LabelEncoder()\n",
    "y = encoder.fit_transform(y)\n",
    "y = to_categorical(y)"
   ]
  },
  {
   "cell_type": "code",
   "execution_count": 66,
   "id": "4b16e615",
   "metadata": {},
   "outputs": [],
   "source": [
    "\n",
    "# Split the dataset into training and testing sets\n",
    "X_train, X_test, y_train, y_test = train_test_split(X, y, test_size=0.2, random_state=42)\n",
    "\n",
    "# Reshape the input data for LSTM\n",
    "X_train = X_train.reshape((X_train.shape[0], 1, X_train.shape[1]))\n",
    "X_test = X_test.reshape((X_test.shape[0], 1, X_test.shape[1]))"
   ]
  },
  {
   "cell_type": "code",
   "execution_count": 67,
   "id": "2b4064f3",
   "metadata": {},
   "outputs": [
    {
     "name": "stdout",
     "output_type": "stream",
     "text": [
      "((6003704, 1, 1), (6003704, 3), (1500927, 1, 1), (1500927, 3))\n"
     ]
    }
   ],
   "source": [
    "print((X_train.shape, y_train.shape, X_test.shape, y_test.shape))"
   ]
  },
  {
   "cell_type": "code",
   "execution_count": 68,
   "id": "7eb33c87",
   "metadata": {},
   "outputs": [
    {
     "data": {
      "text/plain": [
       "array([[0., 0., 1.],\n",
       "       [0., 0., 1.],\n",
       "       [0., 0., 1.],\n",
       "       ...,\n",
       "       [0., 0., 1.],\n",
       "       [0., 0., 1.],\n",
       "       [0., 0., 1.]], dtype=float32)"
      ]
     },
     "execution_count": 68,
     "metadata": {},
     "output_type": "execute_result"
    }
   ],
   "source": [
    "y"
   ]
  },
  {
   "cell_type": "code",
   "execution_count": 69,
   "id": "d07e2d0d",
   "metadata": {},
   "outputs": [
    {
     "data": {
      "text/plain": [
       "array([[[704]],\n",
       "\n",
       "       [[790]],\n",
       "\n",
       "       [[320]],\n",
       "\n",
       "       ...,\n",
       "\n",
       "       [[  0]],\n",
       "\n",
       "       [[608]],\n",
       "\n",
       "       [[608]]], dtype=int64)"
      ]
     },
     "execution_count": 69,
     "metadata": {},
     "output_type": "execute_result"
    }
   ],
   "source": [
    "X_train"
   ]
  },
  {
   "cell_type": "code",
   "execution_count": 70,
   "id": "d43d08f0",
   "metadata": {},
   "outputs": [
    {
     "data": {
      "text/plain": [
       "array([[[1088]],\n",
       "\n",
       "       [[1264]],\n",
       "\n",
       "       [[ 320]],\n",
       "\n",
       "       ...,\n",
       "\n",
       "       [[1087]],\n",
       "\n",
       "       [[   0]],\n",
       "\n",
       "       [[  69]]], dtype=int64)"
      ]
     },
     "execution_count": 70,
     "metadata": {},
     "output_type": "execute_result"
    }
   ],
   "source": [
    "X_test"
   ]
  },
  {
   "cell_type": "code",
   "execution_count": 71,
   "id": "3c7f5f07",
   "metadata": {},
   "outputs": [
    {
     "data": {
      "text/plain": [
       "array([[0., 0., 1.],\n",
       "       [0., 0., 1.],\n",
       "       [0., 0., 1.],\n",
       "       ...,\n",
       "       [0., 0., 1.],\n",
       "       [1., 0., 0.],\n",
       "       [0., 1., 0.]], dtype=float32)"
      ]
     },
     "execution_count": 71,
     "metadata": {},
     "output_type": "execute_result"
    }
   ],
   "source": [
    "y_test"
   ]
  },
  {
   "cell_type": "code",
   "execution_count": 72,
   "id": "2139693e",
   "metadata": {},
   "outputs": [],
   "source": [
    "# Build the LSTM model\n",
    "from tensorflow.keras.layers import Bidirectional\n",
    "\n",
    "model = Sequential()\n",
    "model.add(Bidirectional(LSTM(256, activation='sigmoid', return_sequences=True, input_shape=(X_train.shape[1], X_train.shape[2]))))\n",
    "model.add(Bidirectional(LSTM(128, activation='sigmoid', return_sequences=True)))\n",
    "model.add(Bidirectional(LSTM(64, activation='sigmoid')))\n",
    "model.add(Dense(3, activation='softmax'))\n"
   ]
  },
  {
   "cell_type": "code",
   "execution_count": 74,
   "id": "23f587d4",
   "metadata": {},
   "outputs": [
    {
     "ename": "ValueError",
     "evalue": "You must provide an `input_shape` argument.",
     "output_type": "error",
     "traceback": [
      "\u001b[1;31m---------------------------------------------------------------------------\u001b[0m",
      "\u001b[1;31mValueError\u001b[0m                                Traceback (most recent call last)",
      "Cell \u001b[1;32mIn[74], line 1\u001b[0m\n\u001b[1;32m----> 1\u001b[0m model\u001b[38;5;241m.\u001b[39mbuild()\n\u001b[0;32m      3\u001b[0m model\u001b[38;5;241m.\u001b[39msummary()\n",
      "File \u001b[1;32m~\\AppData\\Local\\anaconda3\\Lib\\site-packages\\keras\\src\\engine\\sequential.py:378\u001b[0m, in \u001b[0;36mSequential.build\u001b[1;34m(self, input_shape)\u001b[0m\n\u001b[0;32m    376\u001b[0m \u001b[38;5;28;01melse\u001b[39;00m:\n\u001b[0;32m    377\u001b[0m     \u001b[38;5;28;01mif\u001b[39;00m input_shape \u001b[38;5;129;01mis\u001b[39;00m \u001b[38;5;28;01mNone\u001b[39;00m:\n\u001b[1;32m--> 378\u001b[0m         \u001b[38;5;28;01mraise\u001b[39;00m \u001b[38;5;167;01mValueError\u001b[39;00m(\u001b[38;5;124m\"\u001b[39m\u001b[38;5;124mYou must provide an `input_shape` argument.\u001b[39m\u001b[38;5;124m\"\u001b[39m)\n\u001b[0;32m    379\u001b[0m     \u001b[38;5;28mself\u001b[39m\u001b[38;5;241m.\u001b[39m_build_graph_network_for_inferred_shape(input_shape)\n\u001b[0;32m    380\u001b[0m     \u001b[38;5;28;01mif\u001b[39;00m \u001b[38;5;129;01mnot\u001b[39;00m \u001b[38;5;28mself\u001b[39m\u001b[38;5;241m.\u001b[39mbuilt:\n",
      "\u001b[1;31mValueError\u001b[0m: You must provide an `input_shape` argument."
     ]
    }
   ],
   "source": [
    "model.build()\n",
    "\n",
    "model.summary()\n"
   ]
  },
  {
   "cell_type": "markdown",
   "id": "a7bc1616",
   "metadata": {},
   "source": []
  },
  {
   "cell_type": "code",
   "execution_count": 45,
   "id": "23a5c110",
   "metadata": {},
   "outputs": [
    {
     "name": "stdout",
     "output_type": "stream",
     "text": [
      "Epoch 1/2\n",
      "10554/10554 [==============================] - 206s 19ms/step - loss: 0.2593 - accuracy: 0.9253 - val_loss: 0.2042 - val_accuracy: 0.9380\n",
      "Epoch 2/2\n",
      "10554/10554 [==============================] - 219s 21ms/step - loss: 0.1938 - accuracy: 0.9412 - val_loss: 0.1863 - val_accuracy: 0.9461\n"
     ]
    }
   ],
   "source": [
    "# Compile the model\n",
    "optimizer = Nadam(learning_rate=0.0001)\n",
    "model.compile(optimizer=optimizer, loss='categorical_crossentropy', metrics=['accuracy'])\n",
    "\n",
    "# Train the model\n",
    "history = model.fit(X_train, y_train, epochs=2, batch_size=512, validation_split=0.1)"
   ]
  },
  {
   "cell_type": "code",
   "execution_count": 46,
   "id": "939cda9a",
   "metadata": {},
   "outputs": [
    {
     "name": "stdout",
     "output_type": "stream",
     "text": [
      "46904/46904 [==============================] - 85s 2ms/step\n",
      "Prediction time for 1500927 samples: 97.41832518577576 seconds\n"
     ]
    }
   ],
   "source": [
    "# Evaluate the model on the test set\n",
    "start_time = time.time()\n",
    "y_pred = model.predict(X_test)\n",
    "end_time = time.time()\n",
    "prediction_time = end_time - start_time\n",
    "print(f\"Prediction time for {X_test.shape[0]} samples: {prediction_time} seconds\")\n",
    "#predicted class labels amd true labels fpr compariso\n",
    "y_pred_classes = np.argmax(y_pred, axis=1)\n",
    "y_test_classes = np.argmax(y_test, axis=1)\n",
    "\n"
   ]
  },
  {
   "cell_type": "code",
   "execution_count": 47,
   "id": "886a4a65",
   "metadata": {},
   "outputs": [
    {
     "name": "stdout",
     "output_type": "stream",
     "text": [
      "y-Pred_classes :  [2 2 2 ... 2 0 1]\n"
     ]
    }
   ],
   "source": [
    "print(\"y-Pred_classes : \",y_pred_classes )"
   ]
  },
  {
   "cell_type": "code",
   "execution_count": 48,
   "id": "7659478c",
   "metadata": {},
   "outputs": [
    {
     "data": {
      "text/plain": [
       "array([2, 2, 2, ..., 2, 0, 1], dtype=int64)"
      ]
     },
     "execution_count": 48,
     "metadata": {},
     "output_type": "execute_result"
    }
   ],
   "source": [
    "y_test_classes"
   ]
  },
  {
   "cell_type": "code",
   "execution_count": null,
   "id": "76a78ad6",
   "metadata": {},
   "outputs": [],
   "source": []
  },
  {
   "cell_type": "code",
   "execution_count": 49,
   "id": "89ff725d",
   "metadata": {},
   "outputs": [
    {
     "name": "stdout",
     "output_type": "stream",
     "text": [
      "Accuracy: 94.53%\n"
     ]
    }
   ],
   "source": [
    "# Calculate accuracy\n",
    "accuracy = accuracy_score(y_test_classes, y_pred_classes)\n",
    "print(f'Accuracy: {accuracy:.2%}')"
   ]
  },
  {
   "cell_type": "code",
   "execution_count": 50,
   "id": "46d11731",
   "metadata": {},
   "outputs": [],
   "source": [
    "def calculate_fp_fn_rates(y_true, y_pred, class_label):\n",
    "    cm = confusion_matrix(y_true, y_pred)\n",
    "    class_idx = class_label  # 0 for Benign, 1 for Fuzzing, 2 for DoS\n",
    "    fp_rate = sum(cm[i, class_idx] for i in range(len(cm))) - cm[class_idx, class_idx]  # False Positive Rate\n",
    "    fn_rate = cm[class_idx, :].sum() - cm[class_idx, class_idx]  # False Negative Rate\n",
    "    return fp_rate / sum(cm[class_idx, :]), fn_rate / sum(cm[class_idx, :])"
   ]
  },
  {
   "cell_type": "code",
   "execution_count": 52,
   "id": "2aad1ebd",
   "metadata": {},
   "outputs": [
    {
     "name": "stdout",
     "output_type": "stream",
     "text": [
      "Class 0:\n",
      "  False Positive Rate: 0.0004\n",
      "  False Negative Rate: 0.0000\n",
      "Class 1:\n",
      "  False Positive Rate: 0.0007\n",
      "  False Negative Rate: 0.8311\n",
      "Class 2:\n",
      "  False Positive Rate: 0.0639\n",
      "  False Negative Rate: 0.0001\n",
      "Confusion Matrix:\n",
      "[[ 117861       0       0]\n",
      " [     51   16686   82038]\n",
      " [      0      71 1284220]]\n"
     ]
    }
   ],
   "source": [
    "from sklearn.metrics import confusion_matrix\n",
    "# Calculate False Positive and False Negative rates for each class\n",
    "for class_label in range(3):  # Loop through each class\n",
    "    fp_rate, fn_rate = calculate_fp_fn_rates(y_test_classes, y_pred_classes, class_label)\n",
    "    print(f\"Class {class_label}:\")\n",
    "    print(f\"  False Positive Rate: {fp_rate:.4f}\")\n",
    "    print(f\"  False Negative Rate: {fn_rate:.4f}\")\n",
    "\n",
    "# Calculate and print the confusion matrix\n",
    "conf_matrix = confusion_matrix(y_test_classes, y_pred_classes)\n",
    "print(\"Confusion Matrix:\")\n",
    "print(conf_matrix)"
   ]
  },
  {
   "cell_type": "code",
   "execution_count": 53,
   "id": "11953475",
   "metadata": {},
   "outputs": [
    {
     "data": {
      "image/png": "[encoded data removed]",
      "text/plain": [
       "<Figure size 800x600 with 1 Axes>"
      ]
     },
     "metadata": {},
     "output_type": "display_data"
    }
   ],
   "source": [
    "# Compute ROC curve and AUC for each class\n",
    "fpr = dict()\n",
    "tpr = dict()\n",
    "roc_auc = dict()\n",
    "for i in range(y_test.shape[1]):\n",
    "    fpr[i], tpr[i], _ = roc_curve(y_test[:, i], y_pred[:, i])\n",
    "    roc_auc[i] = auc(fpr[i], tpr[i])\n",
    "\n",
    "# Plot ROC curve for each class\n",
    "plt.figure(figsize=(8, 6))\n",
    "for i in range(y_test.shape[1]):\n",
    "    plt.plot(fpr[i], tpr[i], label=f'Class {i} (AUC = {roc_auc[i]:.2f})')\n",
    "\n",
    "plt.plot([0, 1], [0, 1], 'k--')\n",
    "plt.xlabel('False Positive Rate')\n",
    "plt.ylabel('True Positive Rate')\n",
    "plt.title('ROC Curve for Multiclass')\n",
    "plt.legend(loc='best')\n",
    "plt.show()"
   ]
  },
  {
   "cell_type": "code",
   "execution_count": 54,
   "id": "6880dccf",
   "metadata": {},
   "outputs": [
    {
     "name": "stdout",
     "output_type": "stream",
     "text": [
      "Confusion Matrix:\n",
      "[[ 117861       0       0]\n",
      " [     51   16686   82038]\n",
      " [      0      71 1284220]]\n"
     ]
    },
    {
     "data": {
      "image/png": "[encoded data removed]",
      "text/plain": [
       "<Figure size 640x480 with 2 Axes>"
      ]
     },
     "metadata": {},
     "output_type": "display_data"
    }
   ],
   "source": [
    "from sklearn.metrics import confusion_matrix, ConfusionMatrixDisplay, roc_auc_score, roc_curve, auc\n",
    "\n",
    "conf_matrix = confusion_matrix(y_test_classes, y_pred_classes)\n",
    "print(\"Confusion Matrix:\")\n",
    "print(conf_matrix)\n",
    "\n",
    "# Plot the confusion matrix\n",
    "class_labels = ['Benign', 'Fuzzing', 'DoS']\n",
    "disp = ConfusionMatrixDisplay(confusion_matrix=conf_matrix, display_labels=class_labels)\n",
    "disp.plot(cmap='Blues', values_format='d')\n",
    "plt.title('Confusion Matrix')\n",
    "plt.show()\n"
   ]
  },
  {
   "cell_type": "code",
   "execution_count": 92,
   "id": "a37057af",
   "metadata": {},
   "outputs": [
    {
     "name": "stdout",
     "output_type": "stream",
     "text": [
      "Class 0:\n",
      "  False Positive Rate: 0.0000\n",
      "  False Negative Rate: 0.0000\n",
      "Class 1:\n",
      "  False Positive Rate: 0.0003\n",
      "  False Negative Rate: 0.0004\n",
      "Class 2:\n",
      "  False Positive Rate: 0.0000\n",
      "  False Negative Rate: 0.0000\n",
      "Confusion Matrix:\n",
      "[[ 117861       0       0]\n",
      " [      0   98738      37]\n",
      " [      0      26 1284265]]\n"
     ]
    },
    {
     "data": {
      "image/png": "[encoded data removed]",
      "text/plain": [
       "<Figure size 640x480 with 2 Axes>"
      ]
     },
     "metadata": {},
     "output_type": "display_data"
    }
   ],
   "source": [
    "#correct classess assignments DoS = 0, Fuzzing = 1 and Benign = 2\n",
    "for class_label in range(3):  # Loop through each class\n",
    "    fp_rate, fn_rate = calculate_fp_fn_rates(y_test_classes, y_pred_classes, class_label)\n",
    "    print(f\"Class {class_label}:\")\n",
    "    print(f\"  False Positive Rate: {fp_rate:.4f}\")\n",
    "    print(f\"  False Negative Rate: {fn_rate:.4f}\")\n",
    "\n",
    "# Calculate and print the confusion matrix\n",
    "conf_matrix = confusion_matrix(y_test_classes, y_pred_classes)\n",
    "print(\"Confusion Matrix:\")\n",
    "print(conf_matrix)\n",
    "\n",
    "# Plot the confusion matrix\n",
    "class_labels = ['DoS', 'Fuzzing', 'Benign']\n",
    "disp = ConfusionMatrixDisplay(confusion_matrix=conf_matrix, display_labels=class_labels)\n",
    "disp.plot(cmap='Blues', values_format='d')\n",
    "plt.title('Confusion Matrix')\n",
    "plt.show()"
   ]
  },
  {
   "cell_type": "code",
   "execution_count": 38,
   "id": "245387c7",
   "metadata": {},
   "outputs": [
    {
     "name": "stdout",
     "output_type": "stream",
     "text": [
      "Class Weights: {0.0: 0.25, 1.0: 0.5}\n"
     ]
    }
   ],
   "source": [
    "# class weights\n",
    "classes, class_counts = np.unique(y_train, return_counts=True)\n",
    "total_samples = len(y_train)\n",
    "class_weights = {cls: total_samples / (len(classes) * count) for cls, count in zip(classes, class_counts)}\n",
    "\n",
    "# Print class weights (optional)\n",
    "print(\"Class Weights:\", class_weights)"
   ]
  },
  {
   "cell_type": "code",
   "execution_count": 93,
   "id": "a3a14fcb",
   "metadata": {},
   "outputs": [],
   "source": [
    "from sklearn.inspection import permutation_importance"
   ]
  },
  {
   "cell_type": "code",
   "execution_count": null,
   "id": "3f0244cd",
   "metadata": {},
   "outputs": [],
   "source": [
    "from tensorflow.keras.layers import ConvLSTM2D\n",
    "\n",
    "model = Sequential()\n",
    "model.add(ConvLSTM2D(filters=256, kernel_size=(3, 3), activation='sigmoid', input_shape=(None, X_train.shape[1], X_train.shape[2], 1), return_sequences=True))\n",
    "model.add(ConvLSTM2D(filters=128, kernel_size=(3, 3), activation='sigmoid', return_sequences=True))\n",
    "model.add(ConvLSTM2D(filters=64, kernel_size=(3, 3), activation='sigmoid'))\n",
    "model.add(Flatten())  # Flatten the output to feed into a dense layer\n",
    "model.add(Dense(3, activation='softmax'))"
   ]
  },
  {
   "cell_type": "code",
   "execution_count": null,
   "id": "bc16dcfe",
   "metadata": {},
   "outputs": [],
   "source": []
  }
 ],
 "metadata": {
  "kernelspec": {
   "display_name": "Python 3 (ipykernel)",
   "language": "python",
   "name": "python3"
  },
  "language_info": {
   "codemirror_mode": {
    "name": "ipython",
    "version": 3
   },
   "file_extension": ".py",
   "mimetype": "text/x-python",
   "name": "python",
   "nbconvert_exporter": "python",
   "pygments_lexer": "ipython3",
   "version": "3.11.5"
  }
 },
 "nbformat": 4,
 "nbformat_minor": 5
}
